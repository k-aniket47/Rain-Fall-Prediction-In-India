{
 "cells": [
  {
   "cell_type": "code",
   "execution_count": 1,
   "id": "b1396395",
   "metadata": {},
   "outputs": [],
   "source": [
    "# Libraries to help with reading and manipulating data\n",
    "import pandas as pd\n",
    "import numpy as np\n",
    "from sklearn.preprocessing import LabelEncoder\n",
    "\n",
    "# Libaries to help with data visualization\n",
    "import matplotlib.pyplot as plt\n",
    "import seaborn as sns\n",
    "\n",
    "# Libaries to help with Model Building\n",
    "import pandas as pd\n",
    "import numpy as np\n",
    "import matplotlib.pyplot as plt\n",
    "import seaborn as sns\n",
    "from sklearn.model_selection import train_test_split\n",
    "from sklearn.preprocessing import StandardScaler\n",
    "from sklearn.metrics import confusion_matrix, accuracy_score\n",
    "import tensorflow as tf\n",
    "from tensorflow.keras.models import Sequential\n",
    "from tensorflow.keras.layers import Dense, Dropout\n",
    "from tensorflow.keras.callbacks import EarlyStopping\n",
    "\n",
    "# To suppress warnings\n",
    "import warnings\n",
    "\n",
    "warnings.filterwarnings(\"ignore\")"
   ]
  },
  {
   "cell_type": "code",
   "execution_count": 2,
   "id": "073d1153",
   "metadata": {},
   "outputs": [],
   "source": [
    "#loading data\n",
    "df = pd.read_csv('rainfaLLIndia.csv') "
   ]
  },
  {
   "cell_type": "code",
   "execution_count": 3,
   "id": "569c1c13",
   "metadata": {},
   "outputs": [
    {
     "data": {
      "text/plain": [
       "(4332, 7)"
      ]
     },
     "execution_count": 3,
     "metadata": {},
     "output_type": "execute_result"
    }
   ],
   "source": [
    "df.shape"
   ]
  },
  {
   "cell_type": "code",
   "execution_count": 4,
   "id": "7617fa30",
   "metadata": {},
   "outputs": [
    {
     "data": {
      "text/html": [
       "<div>\n",
       "<style scoped>\n",
       "    .dataframe tbody tr th:only-of-type {\n",
       "        vertical-align: middle;\n",
       "    }\n",
       "\n",
       "    .dataframe tbody tr th {\n",
       "        vertical-align: top;\n",
       "    }\n",
       "\n",
       "    .dataframe thead th {\n",
       "        text-align: right;\n",
       "    }\n",
       "</style>\n",
       "<table border=\"1\" class=\"dataframe\">\n",
       "  <thead>\n",
       "    <tr style=\"text-align: right;\">\n",
       "      <th></th>\n",
       "      <th>subdivision</th>\n",
       "      <th>YEAR</th>\n",
       "      <th>JUN</th>\n",
       "      <th>JUL</th>\n",
       "      <th>AUG</th>\n",
       "      <th>SEP</th>\n",
       "      <th>JUN-SEP</th>\n",
       "    </tr>\n",
       "  </thead>\n",
       "  <tbody>\n",
       "    <tr>\n",
       "      <th>0</th>\n",
       "      <td>ANDAMAN &amp; NICOBAR ISLAND</td>\n",
       "      <td>1901</td>\n",
       "      <td>517.5</td>\n",
       "      <td>365.1</td>\n",
       "      <td>481.1</td>\n",
       "      <td>332.6</td>\n",
       "      <td>1696.3</td>\n",
       "    </tr>\n",
       "    <tr>\n",
       "      <th>1</th>\n",
       "      <td>ANDAMAN &amp; NICOBAR ISLAND</td>\n",
       "      <td>1902</td>\n",
       "      <td>537.1</td>\n",
       "      <td>228.9</td>\n",
       "      <td>753.7</td>\n",
       "      <td>666.2</td>\n",
       "      <td>2185.9</td>\n",
       "    </tr>\n",
       "    <tr>\n",
       "      <th>2</th>\n",
       "      <td>ANDAMAN &amp; NICOBAR ISLAND</td>\n",
       "      <td>1903</td>\n",
       "      <td>479.9</td>\n",
       "      <td>728.4</td>\n",
       "      <td>326.7</td>\n",
       "      <td>339.0</td>\n",
       "      <td>1874.0</td>\n",
       "    </tr>\n",
       "    <tr>\n",
       "      <th>3</th>\n",
       "      <td>ANDAMAN &amp; NICOBAR ISLAND</td>\n",
       "      <td>1904</td>\n",
       "      <td>495.1</td>\n",
       "      <td>502.0</td>\n",
       "      <td>160.1</td>\n",
       "      <td>820.4</td>\n",
       "      <td>1977.6</td>\n",
       "    </tr>\n",
       "    <tr>\n",
       "      <th>4</th>\n",
       "      <td>ANDAMAN &amp; NICOBAR ISLAND</td>\n",
       "      <td>1905</td>\n",
       "      <td>628.7</td>\n",
       "      <td>368.7</td>\n",
       "      <td>330.5</td>\n",
       "      <td>297.0</td>\n",
       "      <td>1624.9</td>\n",
       "    </tr>\n",
       "  </tbody>\n",
       "</table>\n",
       "</div>"
      ],
      "text/plain": [
       "                subdivision  YEAR    JUN    JUL    AUG    SEP  JUN-SEP\n",
       "0  ANDAMAN & NICOBAR ISLAND  1901  517.5  365.1  481.1  332.6   1696.3\n",
       "1  ANDAMAN & NICOBAR ISLAND  1902  537.1  228.9  753.7  666.2   2185.9\n",
       "2  ANDAMAN & NICOBAR ISLAND  1903  479.9  728.4  326.7  339.0   1874.0\n",
       "3  ANDAMAN & NICOBAR ISLAND  1904  495.1  502.0  160.1  820.4   1977.6\n",
       "4  ANDAMAN & NICOBAR ISLAND  1905  628.7  368.7  330.5  297.0   1624.9"
      ]
     },
     "execution_count": 4,
     "metadata": {},
     "output_type": "execute_result"
    }
   ],
   "source": [
    "df.head()"
   ]
  },
  {
   "cell_type": "code",
   "execution_count": 5,
   "id": "e033606b",
   "metadata": {},
   "outputs": [
    {
     "name": "stdout",
     "output_type": "stream",
     "text": [
      "<class 'pandas.core.frame.DataFrame'>\n",
      "RangeIndex: 4332 entries, 0 to 4331\n",
      "Data columns (total 7 columns):\n",
      " #   Column       Non-Null Count  Dtype  \n",
      "---  ------       --------------  -----  \n",
      " 0   subdivision  4332 non-null   object \n",
      " 1   YEAR         4332 non-null   int64  \n",
      " 2   JUN          4332 non-null   float64\n",
      " 3   JUL          4332 non-null   float64\n",
      " 4   AUG          4332 non-null   float64\n",
      " 5   SEP          4332 non-null   float64\n",
      " 6   JUN-SEP      4332 non-null   float64\n",
      "dtypes: float64(5), int64(1), object(1)\n",
      "memory usage: 237.0+ KB\n"
     ]
    }
   ],
   "source": [
    "\n",
    "df.info()"
   ]
  },
  {
   "cell_type": "code",
   "execution_count": 6,
   "id": "ed6ee36d",
   "metadata": {},
   "outputs": [
    {
     "data": {
      "text/plain": [
       "0"
      ]
     },
     "execution_count": 6,
     "metadata": {},
     "output_type": "execute_result"
    }
   ],
   "source": [
    "df.duplicated().sum()"
   ]
  },
  {
   "cell_type": "code",
   "execution_count": 7,
   "id": "957f6e52",
   "metadata": {},
   "outputs": [
    {
     "data": {
      "text/plain": [
       "subdivision    0\n",
       "YEAR           0\n",
       "JUN            0\n",
       "JUL            0\n",
       "AUG            0\n",
       "SEP            0\n",
       "JUN-SEP        0\n",
       "dtype: int64"
      ]
     },
     "execution_count": 7,
     "metadata": {},
     "output_type": "execute_result"
    }
   ],
   "source": [
    "# let's check for missing values in the data\n",
    "df.isnull().sum()"
   ]
  },
  {
   "cell_type": "code",
   "execution_count": 8,
   "id": "26cfb7bf",
   "metadata": {},
   "outputs": [
    {
     "data": {
      "text/plain": [
       "subdivision      36\n",
       "YEAR            121\n",
       "JUN            2824\n",
       "JUL            3159\n",
       "AUG            3040\n",
       "SEP            2740\n",
       "JUN-SEP        3874\n",
       "dtype: int64"
      ]
     },
     "execution_count": 8,
     "metadata": {},
     "output_type": "execute_result"
    }
   ],
   "source": [
    "df.nunique()"
   ]
  },
  {
   "cell_type": "code",
   "execution_count": 9,
   "id": "90ee9d92",
   "metadata": {},
   "outputs": [
    {
     "name": "stdout",
     "output_type": "stream",
     "text": [
      "['ANDAMAN & NICOBAR ISLAND' 'ARUNACHAL PRADESH' 'ASSAM & MEGHALAYA'\n",
      " 'NAGALAND, MANIPUR, MIZORAM, TRIPURA' 'SUB HIMALAYAN W.BENGAL & SIKKIM'\n",
      " 'GANGETIC W.BENGAL' 'ORISSA' 'JHARKHAND' 'BIHAR' 'EAST UTTAR PRADESH'\n",
      " 'WEST UTTAR PRADESH' 'UTTARANCHAL' 'HARYANA, DELHI & CHANDIGARH' 'PUNJAB'\n",
      " 'HIMACHAL PRADESH' 'JAMMU & KASHMIR' 'WEST RAJASTHAN' 'EAST RAJASTHAN'\n",
      " 'WEST MADHYA PRADESH' 'EAST MADHYA PRADESH' 'GUJARAT REGION'\n",
      " 'SAURASHTRA & KUTCH' 'KONKAN & GOA' 'MADHYA MAHARASHTRA' 'MARATHWADA'\n",
      " 'VIDARBHA' 'CHATHISGARH' 'COASTAL ANDHRA PRADESH & YANAM' 'TELANGANA'\n",
      " 'RAYALSEEMA' 'TAMIL NADU, PUDUCHERRY & KARAIKAL' 'COASTAL KARNATAKA'\n",
      " 'NORTH INTERIOR KARNATAKA' 'SOUTH INTERIOR KARNATAKA' 'KERALA & MAHE'\n",
      " 'LAKSHDWEEP']\n"
     ]
    }
   ],
   "source": [
    "print(df['subdivision'].unique())"
   ]
  },
  {
   "cell_type": "code",
   "execution_count": 10,
   "id": "e0162e41",
   "metadata": {},
   "outputs": [
    {
     "name": "stdout",
     "output_type": "stream",
     "text": [
      "The range of values in the JUN-SEP column is: 4636.799999999999\n",
      "-99.9\n",
      "4536.9\n"
     ]
    }
   ],
   "source": [
    "jun_sep_range = df['JUN-SEP'].describe()['max'] - df['JUN-SEP'].describe()['min']\n",
    "print(\"The range of values in the JUN-SEP column is:\", jun_sep_range)\n",
    "print(df['JUN-SEP'].describe()['min'])\n",
    "print(df['JUN-SEP'].describe()['max'])"
   ]
  },
  {
   "cell_type": "code",
   "execution_count": 11,
   "id": "3f1baf51",
   "metadata": {},
   "outputs": [
    {
     "name": "stdout",
     "output_type": "stream",
     "text": [
      "Mean: 1057.105216989843\n",
      "Median: 877.3\n",
      "Mode: -99.9\n"
     ]
    }
   ],
   "source": [
    "# find the mean of the JUN-SEP column\n",
    "from statistics import mode\n",
    "mean = df['JUN-SEP'].mean()\n",
    "print(\"Mean:\", mean)\n",
    "\n",
    "# find the median of the JUN-SEP column\n",
    "median = df['JUN-SEP'].median()\n",
    "print(\"Median:\", median)\n",
    "\n",
    "# find the mode of the JUN-SEP column\n",
    "mode_value = mode(df['JUN-SEP'])\n",
    "print(\"Mode:\", mode_value)"
   ]
  },
  {
   "cell_type": "code",
   "execution_count": 12,
   "id": "0f3a1911",
   "metadata": {},
   "outputs": [
    {
     "name": "stdout",
     "output_type": "stream",
     "text": [
      "[1901 1902 1903 1904 1905 1906 1907 1908 1910 1911 1912 1913 1914 1915\n",
      " 1916 1917 1918 1919 1920 1921 1922 1923 1924 1925 1926 1927 1928 1929\n",
      " 1930 1931 1932 1933 1934 1935 1936 1937 1938 1939 1940 1941 1942 1946\n",
      " 1947 1949 1950 1951 1952 1953 1954 1955 1956 1957 1958 1959 1960 1961\n",
      " 1962 1963 1964 1965 1966 1967 1968 1969 1970 1971 1972 1973 1974 1975\n",
      " 1976 1977 1978 1979 1980 1981 1982 1983 1984 1985 1986 1987 1988 1989\n",
      " 1990 1991 1992 1993 1994 1995 1996 1997 1998 1999 2000 2001 2002 2003\n",
      " 2004 2005 2006 2007 2008 2009 2010 2011 2012 2013 2014 2015 2016 2017\n",
      " 2018 2019 2020 2021 1943 1944 1945 1948 1909]\n"
     ]
    }
   ],
   "source": [
    "print(df['YEAR'].unique())"
   ]
  },
  {
   "cell_type": "markdown",
   "id": "623cebc9",
   "metadata": {},
   "source": [
    "Data is clean Now we will Encode categorical variables\n"
   ]
  },
  {
   "cell_type": "code",
   "execution_count": 13,
   "id": "247bc9fb",
   "metadata": {},
   "outputs": [],
   "source": [
    "# Preprocess the data\n",
    "le = LabelEncoder()\n",
    "df['subdivision'] = le.fit_transform(df['subdivision'])"
   ]
  },
  {
   "cell_type": "code",
   "execution_count": 14,
   "id": "83bab8b9",
   "metadata": {},
   "outputs": [],
   "source": [
    "# Data Preperation \n",
    "X = df.drop(['JUN-SEP'], axis=1).values\n",
    "y = df['JUN-SEP'].values\n",
    "\n",
    "# Standardize the features\n",
    "scaler = StandardScaler()\n",
    "X_scaled = scaler.fit_transform(X)\n",
    "\n",
    "# Split the data into training and testing sets\n",
    "X_train, X_test, y_train, y_test = train_test_split(X_scaled, y, test_size=0.2, random_state=42)"
   ]
  },
  {
   "cell_type": "code",
   "execution_count": 15,
   "id": "c8a31821",
   "metadata": {},
   "outputs": [],
   "source": [
    "# Building ANN\n",
    "\n",
    "# Define the ANN model\n",
    "model = Sequential()\n",
    "model.add(Dense(units=256, activation='relu', input_dim=X_train.shape[1]))\n",
    "model.add(Dropout(0.2))\n",
    "model.add(Dense(units=128, activation='relu'))\n",
    "model.add(Dropout(0.2))\n",
    "model.add(Dense(units=64, activation='relu'))\n",
    "model.add(Dropout(0.2))\n",
    "model.add(Dense(units=1))"
   ]
  },
  {
   "cell_type": "code",
   "execution_count": 16,
   "id": "5a63ac21",
   "metadata": {},
   "outputs": [],
   "source": [
    "# Compile the model\n",
    "model.compile(optimizer='adam', loss='mean_squared_error')"
   ]
  },
  {
   "cell_type": "code",
   "execution_count": 17,
   "id": "ad90e6d9",
   "metadata": {},
   "outputs": [],
   "source": [
    "# Define the early stopping criteria\n",
    "early_stop = EarlyStopping(monitor='val_loss', mode='min', verbose=1, patience=20)"
   ]
  },
  {
   "cell_type": "code",
   "execution_count": 18,
   "id": "b2a29bf0",
   "metadata": {},
   "outputs": [
    {
     "name": "stdout",
     "output_type": "stream",
     "text": [
      "Epoch 1/500\n",
      "109/109 [==============================] - 1s 2ms/step - loss: 1098073.1250 - val_loss: 102078.9766\n",
      "Epoch 2/500\n",
      "109/109 [==============================] - 0s 1ms/step - loss: 77366.8672 - val_loss: 29000.9180\n",
      "Epoch 3/500\n",
      "109/109 [==============================] - 0s 2ms/step - loss: 44728.2070 - val_loss: 15994.9434\n",
      "Epoch 4/500\n",
      "109/109 [==============================] - 0s 1ms/step - loss: 36045.3398 - val_loss: 11798.8223\n",
      "Epoch 5/500\n",
      "109/109 [==============================] - 0s 2ms/step - loss: 30795.1152 - val_loss: 6435.4629\n",
      "Epoch 6/500\n",
      "109/109 [==============================] - 0s 1ms/step - loss: 26409.5176 - val_loss: 6122.3301\n",
      "Epoch 7/500\n",
      "109/109 [==============================] - 0s 1ms/step - loss: 25889.7930 - val_loss: 3111.5991\n",
      "Epoch 8/500\n",
      "109/109 [==============================] - 0s 1ms/step - loss: 22068.4121 - val_loss: 3255.7559\n",
      "Epoch 9/500\n",
      "109/109 [==============================] - 0s 2ms/step - loss: 22744.2324 - val_loss: 2886.3269\n",
      "Epoch 10/500\n",
      "109/109 [==============================] - 0s 1ms/step - loss: 21470.5527 - val_loss: 2274.6538\n",
      "Epoch 11/500\n",
      "109/109 [==============================] - 0s 1ms/step - loss: 19682.6289 - val_loss: 2183.8457\n",
      "Epoch 12/500\n",
      "109/109 [==============================] - 0s 1ms/step - loss: 19340.3320 - val_loss: 4572.8911\n",
      "Epoch 13/500\n",
      "109/109 [==============================] - 0s 1ms/step - loss: 19984.8418 - val_loss: 2271.2231\n",
      "Epoch 14/500\n",
      "109/109 [==============================] - 0s 1ms/step - loss: 20445.0039 - val_loss: 3613.8513\n",
      "Epoch 15/500\n",
      "109/109 [==============================] - 0s 1ms/step - loss: 20066.1289 - val_loss: 2607.4407\n",
      "Epoch 16/500\n",
      "109/109 [==============================] - 0s 1ms/step - loss: 19362.8164 - val_loss: 2871.2271\n",
      "Epoch 17/500\n",
      "109/109 [==============================] - 0s 2ms/step - loss: 20171.5742 - val_loss: 1568.2240\n",
      "Epoch 18/500\n",
      "109/109 [==============================] - 0s 2ms/step - loss: 19415.6055 - val_loss: 1542.0292\n",
      "Epoch 19/500\n",
      "109/109 [==============================] - 0s 1ms/step - loss: 20229.9863 - val_loss: 1304.3717\n",
      "Epoch 20/500\n",
      "109/109 [==============================] - 0s 1ms/step - loss: 21232.0352 - val_loss: 2440.9385\n",
      "Epoch 21/500\n",
      "109/109 [==============================] - 0s 1ms/step - loss: 21127.5098 - val_loss: 3947.1655\n",
      "Epoch 22/500\n",
      "109/109 [==============================] - 0s 1ms/step - loss: 19388.1191 - val_loss: 1823.6046\n",
      "Epoch 23/500\n",
      "109/109 [==============================] - 0s 1ms/step - loss: 18651.5176 - val_loss: 1339.2371\n",
      "Epoch 24/500\n",
      "109/109 [==============================] - 0s 1ms/step - loss: 19624.0098 - val_loss: 3074.3411\n",
      "Epoch 25/500\n",
      "109/109 [==============================] - 0s 1ms/step - loss: 20453.3750 - val_loss: 2602.2710\n",
      "Epoch 26/500\n",
      "109/109 [==============================] - 0s 1ms/step - loss: 20909.2832 - val_loss: 1449.9286\n",
      "Epoch 27/500\n",
      "109/109 [==============================] - 0s 1ms/step - loss: 19204.9023 - val_loss: 1585.7793\n",
      "Epoch 28/500\n",
      "109/109 [==============================] - 0s 1ms/step - loss: 19662.0391 - val_loss: 5085.0762\n",
      "Epoch 29/500\n",
      "109/109 [==============================] - 0s 1ms/step - loss: 18871.9082 - val_loss: 1677.0885\n",
      "Epoch 30/500\n",
      "109/109 [==============================] - 0s 1ms/step - loss: 17707.3887 - val_loss: 1475.5168\n",
      "Epoch 31/500\n",
      "109/109 [==============================] - 0s 2ms/step - loss: 20073.5195 - val_loss: 1724.4480\n",
      "Epoch 32/500\n",
      "109/109 [==============================] - 0s 1ms/step - loss: 19442.7480 - val_loss: 1381.4274\n",
      "Epoch 33/500\n",
      "109/109 [==============================] - 0s 1ms/step - loss: 19384.2031 - val_loss: 3759.8069\n",
      "Epoch 34/500\n",
      "109/109 [==============================] - 0s 2ms/step - loss: 19595.1719 - val_loss: 1937.3732\n",
      "Epoch 35/500\n",
      "109/109 [==============================] - 0s 1ms/step - loss: 18920.0293 - val_loss: 1219.8011\n",
      "Epoch 36/500\n",
      "109/109 [==============================] - 0s 1ms/step - loss: 19317.6562 - val_loss: 1286.7865\n",
      "Epoch 37/500\n",
      "109/109 [==============================] - 0s 1ms/step - loss: 17728.1621 - val_loss: 3403.2012\n",
      "Epoch 38/500\n",
      "109/109 [==============================] - 0s 1ms/step - loss: 19879.1484 - val_loss: 2169.7869\n",
      "Epoch 39/500\n",
      "109/109 [==============================] - 0s 2ms/step - loss: 18638.4570 - val_loss: 3970.4421\n",
      "Epoch 40/500\n",
      "109/109 [==============================] - 0s 1ms/step - loss: 18807.6055 - val_loss: 1582.7550\n",
      "Epoch 41/500\n",
      "109/109 [==============================] - 0s 1ms/step - loss: 18743.2949 - val_loss: 2182.1316\n",
      "Epoch 42/500\n",
      "109/109 [==============================] - 0s 2ms/step - loss: 20148.3281 - val_loss: 3153.9604\n",
      "Epoch 43/500\n",
      "109/109 [==============================] - 0s 1ms/step - loss: 19566.7676 - val_loss: 1212.5352\n",
      "Epoch 44/500\n",
      "109/109 [==============================] - 0s 2ms/step - loss: 19921.8242 - val_loss: 1674.8600\n",
      "Epoch 45/500\n",
      "109/109 [==============================] - 0s 1ms/step - loss: 19435.3887 - val_loss: 1396.9628\n",
      "Epoch 46/500\n",
      "109/109 [==============================] - 0s 1ms/step - loss: 18281.3652 - val_loss: 4447.5610\n",
      "Epoch 47/500\n",
      "109/109 [==============================] - 0s 1ms/step - loss: 20282.3633 - val_loss: 2930.3879\n",
      "Epoch 48/500\n",
      "109/109 [==============================] - 0s 1ms/step - loss: 19552.7598 - val_loss: 1186.1042\n",
      "Epoch 49/500\n",
      "109/109 [==============================] - 0s 1ms/step - loss: 18949.0938 - val_loss: 1359.8871\n",
      "Epoch 50/500\n",
      "109/109 [==============================] - 0s 1ms/step - loss: 17856.5781 - val_loss: 1249.9938\n",
      "Epoch 51/500\n",
      "109/109 [==============================] - 0s 1ms/step - loss: 18928.2070 - val_loss: 2611.2471\n",
      "Epoch 52/500\n",
      "109/109 [==============================] - 0s 1ms/step - loss: 21623.1797 - val_loss: 1687.6696\n",
      "Epoch 53/500\n",
      "109/109 [==============================] - 0s 2ms/step - loss: 18829.5684 - val_loss: 3400.0032\n",
      "Epoch 54/500\n",
      "109/109 [==============================] - 0s 2ms/step - loss: 19411.6680 - val_loss: 1556.3943\n",
      "Epoch 55/500\n",
      "109/109 [==============================] - 0s 1ms/step - loss: 20348.5000 - val_loss: 2770.5554\n",
      "Epoch 56/500\n",
      "109/109 [==============================] - 0s 1ms/step - loss: 19560.3398 - val_loss: 5041.5469\n",
      "Epoch 57/500\n",
      "109/109 [==============================] - 0s 2ms/step - loss: 20409.4941 - val_loss: 1251.3458\n",
      "Epoch 58/500\n",
      "109/109 [==============================] - 0s 2ms/step - loss: 19335.6582 - val_loss: 6086.5127\n",
      "Epoch 59/500\n",
      "109/109 [==============================] - 0s 2ms/step - loss: 19963.9688 - val_loss: 1261.9460\n",
      "Epoch 60/500\n",
      "109/109 [==============================] - 0s 2ms/step - loss: 21859.1992 - val_loss: 3588.5332\n",
      "Epoch 61/500\n",
      "109/109 [==============================] - 0s 2ms/step - loss: 19184.6836 - val_loss: 1355.0612\n",
      "Epoch 62/500\n",
      "109/109 [==============================] - 0s 2ms/step - loss: 19813.1055 - val_loss: 1687.8737\n",
      "Epoch 63/500\n",
      "109/109 [==============================] - 0s 2ms/step - loss: 19324.2812 - val_loss: 1572.4811\n",
      "Epoch 64/500\n",
      "109/109 [==============================] - 0s 2ms/step - loss: 20702.4023 - val_loss: 1383.2491\n",
      "Epoch 65/500\n",
      "109/109 [==============================] - 0s 2ms/step - loss: 19108.9043 - val_loss: 1849.6163\n",
      "Epoch 66/500\n",
      "109/109 [==============================] - 0s 2ms/step - loss: 19615.0977 - val_loss: 1790.1768\n",
      "Epoch 67/500\n",
      "109/109 [==============================] - 0s 2ms/step - loss: 20442.0391 - val_loss: 3918.8245\n",
      "Epoch 68/500\n",
      "109/109 [==============================] - 0s 2ms/step - loss: 19558.3340 - val_loss: 1261.0693\n",
      "Epoch 68: early stopping\n"
     ]
    }
   ],
   "source": [
    "# Train the model\n",
    "history = model.fit(X_train, y_train, epochs=500, batch_size=32, validation_data=(X_test, y_test), callbacks=[early_stop])"
   ]
  },
  {
   "cell_type": "code",
   "execution_count": 19,
   "id": "a485b7ee",
   "metadata": {},
   "outputs": [
    {
     "name": "stdout",
     "output_type": "stream",
     "text": [
      "MSE: 980418.3006043726\n",
      "MAE: 734.5194410259802\n"
     ]
    }
   ],
   "source": [
    "# Evaluate the model\n",
    "y_pred = model.predict(X_test)\n",
    "mse = np.mean((y_test - y_pred)**2)\n",
    "mae = np.mean(np.abs(y_test - y_pred))\n",
    "print(\"MSE:\", mse)\n",
    "print(\"MAE:\", mae)"
   ]
  },
  {
   "cell_type": "code",
   "execution_count": 20,
   "id": "d32c90fa",
   "metadata": {},
   "outputs": [],
   "source": [
    "# Classify the rainfall\n",
    "low_rainfall = y.mean() - y.std()\n",
    "high_rainfall = y.mean() + y.std()\n",
    "y_pred_class = np.where(y_pred < low_rainfall, 'low',\n",
    "                        np.where(y_pred > high_rainfall, 'high', 'moderate'))\n",
    "y_test_class = np.where(y_test < low_rainfall, 'low',\n",
    "                        np.where(y_test > high_rainfall, 'high', 'moderate'))"
   ]
  },
  {
   "cell_type": "code",
   "execution_count": 21,
   "id": "0d1d4659",
   "metadata": {},
   "outputs": [
    {
     "name": "stdout",
     "output_type": "stream",
     "text": [
      "Accuracy: 99.08%\n"
     ]
    }
   ],
   "source": [
    "accuracy = accuracy_score(y_test_class, y_pred_class)\n",
    "print(\"Accuracy: {:.2%}\".format(accuracy))"
   ]
  },
  {
   "cell_type": "code",
   "execution_count": 22,
   "id": "373d8d5b",
   "metadata": {},
   "outputs": [
    {
     "name": "stdout",
     "output_type": "stream",
     "text": [
      "              precision    recall  f1-score   support\n",
      "\n",
      "        high       0.99      1.00      1.00       130\n",
      "         low       0.90      0.98      0.94        56\n",
      "    moderate       1.00      0.99      0.99       681\n",
      "\n",
      "    accuracy                           0.99       867\n",
      "   macro avg       0.96      0.99      0.98       867\n",
      "weighted avg       0.99      0.99      0.99       867\n",
      "\n"
     ]
    }
   ],
   "source": [
    "# Print the classification report\n",
    "from sklearn.metrics import classification_report\n",
    "print(classification_report(y_test_class, y_pred_class))"
   ]
  },
  {
   "cell_type": "code",
   "execution_count": 23,
   "id": "8569ecef",
   "metadata": {},
   "outputs": [
    {
     "data": {
      "image/png": "[encoded data removed]",
      "text/plain": [
       "<Figure size 432x288 with 1 Axes>"
      ]
     },
     "metadata": {
      "needs_background": "light"
     },
     "output_type": "display_data"
    }
   ],
   "source": [
    "# Visualize the training and validation losses\n",
    "plt.plot(history.history['loss'], label='Training Loss')\n",
    "plt.plot(history.history['val_loss'], label='Validation Loss')\n",
    "plt.xlabel('Epoch')\n",
    "plt.ylabel('Loss')\n",
    "plt.legend()\n",
    "plt.show()"
   ]
  },
  {
   "cell_type": "code",
   "execution_count": 24,
   "id": "f9a4ceb0",
   "metadata": {},
   "outputs": [
    {
     "data": {
      "image/png": "[encoded data removed]",
      "text/plain": [
       "<Figure size 432x288 with 1 Axes>"
      ]
     },
     "metadata": {
      "needs_background": "light"
     },
     "output_type": "display_data"
    }
   ],
   "source": [
    "# Visualize the distribution of predicted and actual rainfall\n",
    "sns.kdeplot(y_pred.flatten(), label='Predicted')\n",
    "sns.kdeplot(y_test, label='Actual')\n",
    "plt.xlabel('Rainfall (mm)')\n",
    "plt.ylabel('Density')\n",
    "plt.title('Distribution of Predicted and Actual Rainfall')\n",
    "plt.legend()\n",
    "plt.show()"
   ]
  },
  {
   "cell_type": "code",
   "execution_count": 25,
   "id": "13907e5a",
   "metadata": {},
   "outputs": [
    {
     "data": {
      "image/png": "[encoded data removed]",
      "text/plain": [
       "<Figure size 432x288 with 2 Axes>"
      ]
     },
     "metadata": {
      "needs_background": "light"
     },
     "output_type": "display_data"
    }
   ],
   "source": [
    "# Visualize the confusion matrix\n",
    "cm = confusion_matrix(y_test_class, y_pred_class, labels=['low', 'moderate', 'high'])\n",
    "sns.heatmap(cm, annot=True, fmt='d', cmap='Blues')\n",
    "plt.xlabel('Predicted Class')\n",
    "plt.ylabel('True Class')\n",
    "plt.title('Confusion Matrix')\n",
    "plt.show()"
   ]
  }
 ],
 "metadata": {
  "kernelspec": {
   "display_name": "Python 3 (ipykernel)",
   "language": "python",
   "name": "python3"
  },
  "language_info": {
   "codemirror_mode": {
    "name": "ipython",
    "version": 3
   },
   "file_extension": ".py",
   "mimetype": "text/x-python",
   "name": "python",
   "nbconvert_exporter": "python",
   "pygments_lexer": "ipython3",
   "version": "3.10.2"
  }
 },
 "nbformat": 4,
 "nbformat_minor": 5
}
